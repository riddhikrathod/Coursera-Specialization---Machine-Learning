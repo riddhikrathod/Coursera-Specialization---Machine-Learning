{
 "cells": [
  {
   "cell_type": "markdown",
   "metadata": {},
   "source": [
    "### Binary Classification Logistic Regression with Gradient Descent"
   ]
  },
  {
   "cell_type": "code",
   "execution_count": 1,
   "metadata": {},
   "outputs": [],
   "source": [
    "import copy, math\n",
    "import numpy as np\n",
    "import matplotlib.pyplot as plt"
   ]
  },
  {
   "cell_type": "code",
   "execution_count": 2,
   "metadata": {},
   "outputs": [],
   "source": [
    "X_train = np.array([[0.5, 1.5], [1,1], [1.5, 0.5], [3, 0.5], [2, 2], [1, 2.5]])\n",
    "y_train = np.array([0, 0, 0, 1, 1, 1])"
   ]
  },
  {
   "cell_type": "code",
   "execution_count": 3,
   "metadata": {},
   "outputs": [],
   "source": [
    "def sigmoid(z):\n",
    "    \"\"\"\n",
    "    Compute the sigmoid of z\n",
    "\n",
    "    Parameters\n",
    "    ----------\n",
    "    z : array_like\n",
    "        A scalar or numpy array of any size.\n",
    "\n",
    "    Returns\n",
    "    -------\n",
    "     g : array_like\n",
    "         sigmoid(z)\n",
    "    \"\"\"\n",
    "    z = np.clip( z, -500, 500 )           # protect against overflow\n",
    "    g = 1.0/(1.0+np.exp(-z))\n",
    "\n",
    "    return g"
   ]
  },
  {
   "cell_type": "code",
   "execution_count": 4,
   "metadata": {},
   "outputs": [],
   "source": [
    "def compute_gradient_logistic(X, y, w, b, lambda_): \n",
    "    \"\"\"\n",
    "    Computes the gradient for linear regression \n",
    " \n",
    "    Args:\n",
    "      X (ndarray (m,n): Data, m examples with n features\n",
    "      y (ndarray (m,)): target values\n",
    "      w (ndarray (n,)): model parameters  \n",
    "      b (scalar)      : model parameter\n",
    "    Returns\n",
    "      dj_dw (ndarray (n,)): The gradient of the cost w.r.t. the parameters w. \n",
    "      dj_db (scalar)      : The gradient of the cost w.r.t. the parameter b. \n",
    "    \"\"\"\n",
    "    m,n = X.shape\n",
    "    dj_dw = np.zeros((n,))                           #(n,)\n",
    "    dj_db = 0.\n",
    "\n",
    "    for i in range(m):\n",
    "        f_wb_i = sigmoid(np.dot(X[i],w) + b)          #(n,)(n,)=scalar\n",
    "        #print(f_wb_i)\n",
    "        err_i  = f_wb_i  - y[i]                       #scalar\n",
    "        #print(err_i)\n",
    "        for j in range(n):\n",
    "            #print(dj_dw[j])\n",
    "            dj_dw[j] = dj_dw[j] + err_i * X[i,j]      #scalar\n",
    "        dj_db = dj_db + err_i\n",
    "    dj_dw = dj_dw/m                                   #(n,)\n",
    "    dj_db = dj_db/m                                   #scalar\n",
    "    \n",
    "    for j in range(n):\n",
    "        dj_dw[j] = dj_dw[j] + (lambda_/m) * w[j]\n",
    "        #print(\"dj_dw:\", dj_dw)\n",
    "    #print()\n",
    "    return dj_db, dj_dw"
   ]
  },
  {
   "cell_type": "code",
   "execution_count": 5,
   "metadata": {},
   "outputs": [
    {
     "name": "stdout",
     "output_type": "stream",
     "text": [
      "dj_db: 0.49861806546328574\n",
      "dj_dw: [0.6650000599453627, 0.748839429839967]\n"
     ]
    }
   ],
   "source": [
    "X_tmp = np.array([[0.5, 1.5], [1,1], [1.5, 0.5], [3, 0.5], [2, 2], [1, 2.5]])\n",
    "y_tmp = np.array([0, 0, 0, 1, 1, 1])\n",
    "w_tmp = np.array([2.,3.])\n",
    "b_tmp = 1.\n",
    "dj_db_tmp, dj_dw_tmp = compute_gradient_logistic(X_tmp, y_tmp, w_tmp, b_tmp, 0.5)\n",
    "print(f\"dj_db: {dj_db_tmp}\" )\n",
    "print(f\"dj_dw: {dj_dw_tmp.tolist()}\" )"
   ]
  },
  {
   "cell_type": "code",
   "execution_count": 6,
   "metadata": {},
   "outputs": [],
   "source": [
    "def log_1pexp(x, maximum=20):\n",
    "    ''' approximate log(1+exp^x)\n",
    "        https://stats.stackexchange.com/questions/475589/numerical-computation-of-cross-entropy-in-practice\n",
    "    Args:\n",
    "    x   : (ndarray Shape (n,1) or (n,)  input\n",
    "    out : (ndarray Shape matches x      output ~= np.log(1+exp(x))\n",
    "    '''\n",
    "\n",
    "    out  = np.zeros_like(x,dtype=float)\n",
    "    i    = x <= maximum\n",
    "    ni   = np.logical_not(i)\n",
    "\n",
    "    out[i]  = np.log(1 + np.exp(x[i]))\n",
    "    out[ni] = x[ni]\n",
    "    return out"
   ]
  },
  {
   "cell_type": "code",
   "execution_count": 7,
   "metadata": {},
   "outputs": [],
   "source": [
    "def compute_cost_logistic(X, y, w, b, lambda_=0.5, safe=False):\n",
    "    \"\"\"\n",
    "    Computes cost using logistic loss, non-matrix version\n",
    "\n",
    "    Args:\n",
    "      X (ndarray): Shape (m,n)  matrix of examples with n features\n",
    "      y (ndarray): Shape (m,)   target values\n",
    "      w (ndarray): Shape (n,)   parameters for prediction\n",
    "      b (scalar):               parameter  for prediction\n",
    "      lambda_ : (scalar, float) Controls amount of regularization, 0 = no regularization\n",
    "      safe : (boolean)          True-selects under/overflow safe algorithm\n",
    "    Returns:\n",
    "      cost (scalar): cost\n",
    "    \"\"\"\n",
    "\n",
    "    m,n = X.shape\n",
    "    cost = 0.0\n",
    "    #print(\"w:\", w, \"b:\", b)\n",
    "    for i in range(m):\n",
    "        z_i    = np.dot(X[i],w) + b                                             #(n,)(n,) or (n,) ()\n",
    "        if safe:  #avoids overflows\n",
    "            cost += -(y[i] * z_i ) + log_1pexp(z_i)\n",
    "        else:\n",
    "            #print(\"Cost:\", cost)\n",
    "            f_wb_i = sigmoid(z_i)                                                   #(n,)\n",
    "            cost  += -y[i] * np.log(f_wb_i) - (1 - y[i]) * np.log(1 - f_wb_i)       # scalar\n",
    "            # print(z_i)\n",
    "            # print(f_wb_i)\n",
    "            # print(-y[i])\n",
    "            # print(np.log(f_wb_i))\n",
    "            # print(1 - y[i])\n",
    "            # print(np.log(1 - f_wb_i))\n",
    "            # print()\n",
    "    cost = cost/m\n",
    "\n",
    "    reg_cost = 0\n",
    "    if lambda_ != 0:\n",
    "        for j in range(n):\n",
    "            reg_cost += (w[j]**2)                                               # scalar\n",
    "        reg_cost = (lambda_/(2*m))*reg_cost\n",
    "        \n",
    "    #print(\"TTL1:\", cost)\n",
    "    #print(\"TTL2:\", reg_cost)\n",
    "    return cost + reg_cost"
   ]
  },
  {
   "cell_type": "code",
   "execution_count": 8,
   "metadata": {},
   "outputs": [],
   "source": [
    "def gradient_descent(X, y, w_in, b_in, alpha, num_iters, lambda_): \n",
    "    \"\"\"\n",
    "    Performs batch gradient descent\n",
    "    \n",
    "    Args:\n",
    "      X (ndarray (m,n)   : Data, m examples with n features\n",
    "      y (ndarray (m,))   : target values\n",
    "      w_in (ndarray (n,)): Initial values of model parameters  \n",
    "      b_in (scalar)      : Initial values of model parameter\n",
    "      alpha (float)      : Learning rate\n",
    "      num_iters (scalar) : number of iterations to run gradient descent\n",
    "      \n",
    "    Returns:\n",
    "      w (ndarray (n,))   : Updated values of parameters\n",
    "      b (scalar)         : Updated value of parameter \n",
    "    \"\"\"\n",
    "    # An array to store cost J and w's at each iteration primarily for graphing later\n",
    "    J_history = []\n",
    "    w = copy.deepcopy(w_in)  #avoid modifying global w within function\n",
    "    b = b_in\n",
    "    \n",
    "    for i in range(num_iters):\n",
    "        # Calculate the gradient and update the parameters\n",
    "        dj_db, dj_dw = compute_gradient_logistic(X, y, w, b, lambda_)   \n",
    "        #print(\"NEW1:\", dj_db, dj_dw)\n",
    "\n",
    "        # Update Parameters using w, b, alpha and gradient\n",
    "        w = w - alpha * dj_dw               \n",
    "        b = b - alpha * dj_db       \n",
    "        #print(\"NEW2:\", w, b)        \n",
    "      \n",
    "        # Save cost J at each iteration\n",
    "        if i<100000:      # prevent resource exhaustion \n",
    "            J_history.append(compute_cost_logistic(X, y, w, b) )\n",
    "\n",
    "        # Print cost every at intervals 10 times or as many iterations if < 10\n",
    "        if i% math.ceil(num_iters / 10) == 0:\n",
    "            print(f\"Iteration {i:4d}: Cost {J_history[-1]}   \")\n",
    "        \n",
    "    return w, b, J_history         #return final w,b and J history for graphing"
   ]
  },
  {
   "cell_type": "code",
   "execution_count": 9,
   "metadata": {},
   "outputs": [
    {
     "name": "stdout",
     "output_type": "stream",
     "text": [
      "Iteration    0: Cost 0.6846480843013147   \n",
      "Iteration 1000: Cost 0.434825020234189   \n",
      "Iteration 2000: Cost 0.43403268661074923   \n",
      "Iteration 3000: Cost 0.4340289757211039   \n",
      "Iteration 4000: Cost 0.43402895793058927   \n",
      "Iteration 5000: Cost 0.4340289578451606   \n",
      "Iteration 6000: Cost 0.43402895784475026   \n",
      "Iteration 7000: Cost 0.43402895784474826   \n",
      "Iteration 8000: Cost 0.43402895784474826   \n",
      "Iteration 9000: Cost 0.43402895784474826   \n",
      "\n",
      "updated parameters: w:[1.35547992 1.16169586], b:-3.5708772670853386\n"
     ]
    }
   ],
   "source": [
    "w_tmp  = np.zeros_like(X_train[0])\n",
    "b_tmp  = 0.\n",
    "alph = 0.1\n",
    "iters = 10000\n",
    "lambda_=0.5\n",
    "\n",
    "w_out, b_out, _ = gradient_descent(X_train, y_train, w_tmp, b_tmp, alph, iters, lambda_) \n",
    "print(f\"\\nupdated parameters: w:{w_out}, b:{b_out}\")"
   ]
  }
 ],
 "metadata": {
  "kernelspec": {
   "display_name": "Python 3",
   "language": "python",
   "name": "python3"
  },
  "language_info": {
   "codemirror_mode": {
    "name": "ipython",
    "version": 3
   },
   "file_extension": ".py",
   "mimetype": "text/x-python",
   "name": "python",
   "nbconvert_exporter": "python",
   "pygments_lexer": "ipython3",
   "version": "3.11.8"
  }
 },
 "nbformat": 4,
 "nbformat_minor": 2
}
