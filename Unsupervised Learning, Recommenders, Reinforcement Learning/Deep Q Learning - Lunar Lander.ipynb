{
 "cells": [
  {
   "cell_type": "markdown",
   "id": "5cf9fe93",
   "metadata": {},
   "source": [
    "# Deep Q Learning - Lunar Lander\n",
    "\n",
    "In this assignment, we train an agent to land a lunar lander safely on a landing pag on the surface of the moon. \n",
    "\n",
    "## Import Packages"
   ]
  },
  {
   "cell_type": "code",
   "execution_count": null,
   "id": "3fe1d681",
   "metadata": {},
   "outputs": [],
   "source": [
    "import time\n",
    "from collections import deque, namedtuple\n",
    "\n",
    "import gym\n",
    "import numpy as np\n",
    "import PIL.Image\n",
    "import tensorflow as tf\n",
    "\n",
    "from pyvirtualdisplay import Display\n",
    "from tensorflow.keras import Sequential\n",
    "from tensorflow.keras.layers import Dense, Input\n",
    "from tensorflow.keras.losses import MSE\n",
    "from tensorflow.keras.optimizers import Adam"
   ]
  },
  {
   "cell_type": "code",
   "execution_count": null,
   "id": "a02bfa42",
   "metadata": {},
   "outputs": [],
   "source": [
    "# # Set up a virtual display to render the Lunar Lander environment.\n",
    "# Display(visible=0, size=(840, 480)).start();"
   ]
  },
  {
   "cell_type": "markdown",
   "id": "d6dfd14c",
   "metadata": {},
   "source": [
    "Package descritions:\n",
    "- deque - data structure and memory descriptions\n",
    "- namedtuple - stores experience tuple\n",
    "- gym - collection of enviornment to test reifn algo\n",
    "- PIL.Image & pyvirtualdisplay - needed to render lunar lander enviorment"
   ]
  },
  {
   "cell_type": "markdown",
   "id": "cd460c65",
   "metadata": {},
   "source": [
    "## Hyperparameters"
   ]
  },
  {
   "cell_type": "code",
   "execution_count": null,
   "id": "642d8896",
   "metadata": {},
   "outputs": [],
   "source": [
    "MEMORY_SIZE = 100_000     # size of memory buffer\n",
    "GAMMA = 0.995             # discount factor\n",
    "ALPHA = 1e-3              # learning rate  \n",
    "NUM_STEPS_FOR_UPDATE = 4  # perform a learning update every C time steps"
   ]
  },
  {
   "cell_type": "markdown",
   "id": "ca5c2743",
   "metadata": {},
   "source": [
    "## Lunar Lander Enviornment\n",
    "- We use OpenAI's gym library that provides a wide variety of enviornments for reinf learning. An enviornment represents a problem or a task to be solved.\n",
    "- The landing flag is designated by 2 flag poles and it is always at coordinates (0,0) but the lunar lander is allowed to land outside of the landing pad.\n",
    "- The lander starts at the top center of the enviornment with a random initial force appolied to its centre of mass and also it has infinite fuel. The enviornment is considered solved on getting 200 points.\n",
    "\n",
    "## Action Space\n",
    "The agent has 4 discrete actions available:\n",
    "1. Do nothing (corresponding value = 0)\n",
    "2. Fire right engine (corresponding value = 1)\n",
    "3. Fire main engine (corresponding value = 2)\n",
    "4. Fire left engine (corresponding value = 3)\n",
    "\n",
    "## Observation Space\n",
    "The agents observation space consists of a state vector with 8 variables:\n",
    "* Its $(x,y)$ coordinates. The landing pad is always at coordinates $(0,0)$.\n",
    "* Its linear velocities $(\\dot x,\\dot y)$.\n",
    "* Its angle $\\theta$.\n",
    "* Its angular velocity $\\dot \\theta$.\n",
    "* Two booleans, $l$ and $r$, that represent whether each leg is in contact with the ground or not.\n",
    "\n",
    "## Rewards\n",
    "The lunar lander enviornment has the following reward system:\n",
    "* Landing on the landing pad and coming to rest is about 100-140 points.\n",
    "* If the lander moves away from the landing pad, it loses reward. \n",
    "* If the lander crashes, it receives -100 points.\n",
    "* If the lander comes to rest, it receives +100 points.\n",
    "* Each leg with ground contact is +10 points.\n",
    "* Firing the main engine is -0.3 points each frame.\n",
    "* Firing the side engine is -0.03 points each frame.\n",
    "\n",
    "## Episode Termination\n",
    "An episode ends if:\n",
    "* The lunar lander crashes (i.e if the body of the lunar lander comes in contact with the surface of the moon).\n",
    "* The lander's $x$-coordinate is greater than 1.\n",
    "\n",
    "## Load the enviornment\n",
    "We use the gym library to initiate the lunar lander enviornment. Once we load the enviornment, we rest its initial state. We then render the frame"
   ]
  },
  {
   "cell_type": "code",
   "execution_count": null,
   "id": "52630dc9",
   "metadata": {},
   "outputs": [],
   "source": [
    "env = gym.make('LunarLander-v2')\n"
   ]
  }
 ],
 "metadata": {
  "kernelspec": {
   "display_name": "Python 3",
   "language": "python",
   "name": "python3"
  },
  "language_info": {
   "codemirror_mode": {
    "name": "ipython",
    "version": 3
   },
   "file_extension": ".py",
   "mimetype": "text/x-python",
   "name": "python",
   "nbconvert_exporter": "python",
   "pygments_lexer": "ipython3",
   "version": "3.11.9"
  }
 },
 "nbformat": 4,
 "nbformat_minor": 5
}
